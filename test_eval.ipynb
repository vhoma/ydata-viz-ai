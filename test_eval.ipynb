{
 "cells": [
  {
   "cell_type": "code",
   "execution_count": null,
   "id": "7d9e4c0b",
   "metadata": {},
   "outputs": [],
   "source": [
    "import torch\n",
    "from torch import nn\n",
    "from torch.utils.data import DataLoader\n",
    "from torchvision.transforms import LinearTransformation\n",
    "from torch.nn.functional import affine_grid, grid_sample\n",
    "\n",
    "from kornia.geometry.transform import warp_affine3d\n",
    "\n",
    "import numpy as np\n",
    "import matplotlib.pyplot as plt\n",
    "from scipy.ndimage import affine_transform\n",
    "from mpl_toolkits.axes_grid1 import ImageGrid\n",
    "import os\n",
    "\n",
    "import nn_architecture\n",
    "import data_loader as dl\n"
   ]
  },
  {
   "cell_type": "code",
   "execution_count": null,
   "id": "eda69a43",
   "metadata": {},
   "outputs": [],
   "source": []
  },
  {
   "cell_type": "code",
   "execution_count": null,
   "id": "07ee45e9",
   "metadata": {},
   "outputs": [],
   "source": [
    "def get_device():\n",
    "    if torch.cuda.is_available():\n",
    "        device_name = \"cuda:0\"\n",
    "    #elif torch.backends.mps.is_available():\n",
    "    #    device_name = \"mps\"\n",
    "    else:\n",
    "        device_name = \"cpu\"\n",
    "    return torch.device(device_name)"
   ]
  },
  {
   "cell_type": "code",
   "execution_count": null,
   "id": "d64f9030",
   "metadata": {},
   "outputs": [],
   "source": [
    "device = get_device()\n",
    "device"
   ]
  },
  {
   "cell_type": "code",
   "execution_count": null,
   "id": "28d1f576",
   "metadata": {},
   "outputs": [],
   "source": [
    "def show_eval(res_matrix, x, y):\n",
    "    res_matrix = res_matrix.cpu().detach().numpy()\n",
    "    full_matrix = np.append(res_matrix, [0, 0, 0, 1]).reshape(4, 4)\n",
    "    x_nmp = x.detach().numpy().transpose(1, 2, 0)\n",
    "    y_nmp = y.detach().numpy().transpose(1, 2, 0)\n",
    "\n",
    "    fig = plt.figure(figsize=(200, 200))\n",
    "    grid = iter(ImageGrid(fig, 111, nrows_ncols=(1, 3), axes_pad=0.1))\n",
    "\n",
    "    ax = next(grid)\n",
    "    ax.imshow(np.max(x_nmp, axis=2), cmap='gray')\n",
    "    ax = next(grid)\n",
    "    ax.imshow(np.max(y_nmp, axis=2), cmap='gray')\n",
    "    x_new = affine_transform(x_nmp, full_matrix)\n",
    "    ax = next(grid)\n",
    "    ax.imshow(np.max(x_new, axis=2), cmap='gray')\n",
    "\n",
    "    plt.show()"
   ]
  },
  {
   "cell_type": "code",
   "execution_count": null,
   "id": "650b82d0",
   "metadata": {
    "scrolled": true
   },
   "outputs": [],
   "source": [
    "def eval_model(model_state_file, data_path, iterations=0):\n",
    "    model = nn_architecture.Siam_AirNet2()\n",
    "    criterion = nn.MSELoss(reduction='sum')\n",
    "    \n",
    "    model.load_state_dict(torch.load(model_state_file, map_location=torch.device('cpu')))\n",
    "    # model.load_state_dict(torch.load(\"best_model.pt\", map_location=torch.device('cpu')))\n",
    "    model.eval()\n",
    "\n",
    "    min_val = -1000\n",
    "    max_val = 1000\n",
    "    batch_size = 1\n",
    "\n",
    "    dataset = dl.Img3dDataSet(data_path, min_val, max_val, device)\n",
    "    data_loader = DataLoader(dataset, batch_size=batch_size, shuffle=False)\n",
    "    \n",
    "    overall_loss = 0\n",
    "\n",
    "    i = 0\n",
    "    torch.set_printoptions(precision=3)\n",
    "    for x, y, matrix in data_loader:\n",
    "        if iterations and i >= iterations:\n",
    "            break\n",
    "        print(f\"index: {i}\")\n",
    "        print(matrix.reshape(3, 4))\n",
    "        res_matrix = model(x, y)\n",
    "        loss = criterion(res_matrix, matrix.flatten(start_dim=1))\n",
    "        overall_loss += loss\n",
    "        print(res_matrix.reshape(3, 4).float())\n",
    "        print(f\"diff:\\n{(matrix.reshape(3, 4) - res_matrix.reshape(3, 4))}\")\n",
    "        print(f\"loss: {loss}\")\n",
    "        #show_eval(res_matrix, x[0], y[0])\n",
    "        i += 1\n",
    "        \n",
    "    return overall_loss / i"
   ]
  },
  {
   "cell_type": "code",
   "execution_count": null,
   "id": "d3e13dac",
   "metadata": {
    "scrolled": true
   },
   "outputs": [],
   "source": [
    "eval_model(\"models/best_model.pt\", \"./data/val\")"
   ]
  },
  {
   "cell_type": "code",
   "execution_count": null,
   "id": "3201c419",
   "metadata": {},
   "outputs": [],
   "source": []
  },
  {
   "cell_type": "code",
   "execution_count": null,
   "id": "7ef24c3b",
   "metadata": {},
   "outputs": [],
   "source": [
    "m1 = np.array([  0.9563,  -0.2924,   0.0000,  53.7707,   0.2924,   0.9563,   0.0000,\n",
    "         -39.7882,   0.0000,   0.0000,   1.0000,   0.0000])\n",
    "m2 = np.array([ 9.3715e-01, -2.6060e-01, -6.0337e-04,  5.5185e+01,  2.5515e-01,\n",
    "          9.2936e-01, -1.4178e-02, -2.1137e+01, -4.2215e-03,  5.5613e-03,\n",
    "          9.9444e-01, -3.5994e-03])"
   ]
  },
  {
   "cell_type": "code",
   "execution_count": null,
   "id": "5eb696c5",
   "metadata": {},
   "outputs": [],
   "source": [
    "np.square(m1 - m2)"
   ]
  },
  {
   "cell_type": "code",
   "execution_count": null,
   "id": "1d8673d6",
   "metadata": {},
   "outputs": [],
   "source": []
  },
  {
   "cell_type": "code",
   "execution_count": null,
   "id": "7f1132d0",
   "metadata": {
    "scrolled": false
   },
   "outputs": [],
   "source": [
    "eval_model(\"models/continue_920_1.93.pt\", \"./data/val\")"
   ]
  },
  {
   "cell_type": "code",
   "execution_count": null,
   "id": "62793601",
   "metadata": {},
   "outputs": [],
   "source": []
  },
  {
   "cell_type": "code",
   "execution_count": null,
   "id": "50843849",
   "metadata": {},
   "outputs": [],
   "source": []
  },
  {
   "cell_type": "code",
   "execution_count": null,
   "id": "af12d16e",
   "metadata": {
    "scrolled": true
   },
   "outputs": [],
   "source": [
    "eval_model(\"best_model_731_1.93.pt\", \"./data/val\")"
   ]
  },
  {
   "cell_type": "code",
   "execution_count": null,
   "id": "48ab533c",
   "metadata": {},
   "outputs": [],
   "source": []
  },
  {
   "cell_type": "code",
   "execution_count": null,
   "id": "0c6fca77",
   "metadata": {},
   "outputs": [],
   "source": []
  },
  {
   "cell_type": "code",
   "execution_count": null,
   "id": "57438933",
   "metadata": {
    "scrolled": true
   },
   "outputs": [],
   "source": [
    "eval_model(\"models/continueModel_1.19.pt\", \"./data/val\")"
   ]
  },
  {
   "cell_type": "code",
   "execution_count": null,
   "id": "0b96fbf2",
   "metadata": {},
   "outputs": [],
   "source": []
  },
  {
   "cell_type": "code",
   "execution_count": null,
   "id": "d941fd41",
   "metadata": {},
   "outputs": [],
   "source": []
  },
  {
   "cell_type": "code",
   "execution_count": null,
   "id": "42358030",
   "metadata": {
    "scrolled": true
   },
   "outputs": [],
   "source": [
    "eval_model(\"model_test1.pt\", \"./data/val\", iterations=10)"
   ]
  },
  {
   "cell_type": "code",
   "execution_count": null,
   "id": "dc4293b8",
   "metadata": {},
   "outputs": [],
   "source": []
  },
  {
   "cell_type": "code",
   "execution_count": 80,
   "id": "66ba3667",
   "metadata": {},
   "outputs": [
    {
     "data": {
      "text/plain": [
       "-39.27412412007226"
      ]
     },
     "execution_count": 80,
     "metadata": {},
     "output_type": "execute_result"
    }
   ],
   "source": [
    "np.random.uniform(-45, 45)"
   ]
  }
 ],
 "metadata": {
  "kernelspec": {
   "display_name": "Python 3 (ipykernel)",
   "language": "python",
   "name": "python3"
  },
  "language_info": {
   "codemirror_mode": {
    "name": "ipython",
    "version": 3
   },
   "file_extension": ".py",
   "mimetype": "text/x-python",
   "name": "python",
   "nbconvert_exporter": "python",
   "pygments_lexer": "ipython3",
   "version": "3.10.2"
  }
 },
 "nbformat": 4,
 "nbformat_minor": 5
}
