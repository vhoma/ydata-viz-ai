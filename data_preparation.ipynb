{
 "cells": [
  {
   "cell_type": "code",
   "execution_count": 1,
   "metadata": {},
   "outputs": [],
   "source": [
    "import dicom_utils"
   ]
  },
  {
   "cell_type": "code",
   "execution_count": 2,
   "metadata": {},
   "outputs": [],
   "source": [
    "import os\n",
    "import pandas as pd\n",
    "import numpy as np\n",
    "import shutil\n",
    "import wget"
   ]
  },
  {
   "cell_type": "code",
   "execution_count": 3,
   "metadata": {},
   "outputs": [],
   "source": [
    "import pydicom"
   ]
  },
  {
   "cell_type": "code",
   "execution_count": 4,
   "metadata": {},
   "outputs": [],
   "source": [
    "input_file = \"/Users/boriskefer/Documents/coding/YDATA/2021_2022_main/viz_ai/ydata-viz-ai/YdataDataset.txt\" \n",
    "data_path = \"/Users/boriskefer/Documents/coding/YDATA/2021_2022_main/viz_ai/ydata-viz-ai/data01_00\""
   ]
  },
  {
   "cell_type": "code",
   "execution_count": 4,
   "metadata": {},
   "outputs": [
    {
     "name": "stdout",
     "output_type": "stream",
     "text": [
      "https://s3.ap-south-1.amazonaws.com/qure.headct.study/CQ500-CT-0.zip\n",
      "\n",
      "100% [..................................................] 164767289 / 164767289https://s3.ap-south-1.amazonaws.com/qure.headct.study/CQ500-CT-1.zip\n",
      "\n",
      "100% [......................................................] 6977178 / 6977178https://s3.ap-south-1.amazonaws.com/qure.headct.study/CQ500-CT-10.zip\n",
      "\n",
      "100% [....................................................] 37820357 / 37820357https://s3.ap-south-1.amazonaws.com/qure.headct.study/CQ500-CT-100.zip\n",
      "\n",
      "100% [....................................................] 88437935 / 88437935https://s3.ap-south-1.amazonaws.com/qure.headct.study/CQ500-CT-101.zip\n",
      "\n",
      "100% [....................................................] 70681390 / 70681390https://s3.ap-south-1.amazonaws.com/qure.headct.study/CQ500-CT-102.zip\n",
      "\n",
      "100% [....................................................] 60667940 / 60667940https://s3.ap-south-1.amazonaws.com/qure.headct.study/CQ500-CT-103.zip\n",
      "\n",
      "100% [....................................................] 34352135 / 34352135https://s3.ap-south-1.amazonaws.com/qure.headct.study/CQ500-CT-104.zip\n",
      "\n",
      "100% [....................................................] 91368008 / 91368008https://s3.ap-south-1.amazonaws.com/qure.headct.study/CQ500-CT-105.zip\n",
      "\n",
      "100% [....................................................] 82549995 / 82549995https://s3.ap-south-1.amazonaws.com/qure.headct.study/CQ500-CT-106.zip\n",
      "\n",
      "100% [....................................................] 42657936 / 42657936Reached max 10\n"
     ]
    }
   ],
   "source": [
    "dicom_utils.download_data(input_file, data_path)"
   ]
  },
  {
   "cell_type": "code",
   "execution_count": 5,
   "metadata": {
    "scrolled": true
   },
   "outputs": [
    {
     "name": "stdout",
     "output_type": "stream",
     "text": [
      "CQ500-CT-0.zip\n",
      "CQ500-CT-1.zip\n",
      "CQ500-CT-10.zip\n",
      "CQ500-CT-100.zip\n",
      "CQ500-CT-101.zip\n",
      "CQ500-CT-102.zip\n",
      "CQ500-CT-103.zip\n",
      "CQ500-CT-104.zip\n",
      "CQ500-CT-105.zip\n",
      "CQ500-CT-106.zip\n",
      "/Users/boriskefer/Documents/coding/YDATA/2021_2022_main/viz_ai/ydata-viz-ai/data01/CQ500CT101 CQ500CT101/Unknown Study/CT POST CONTRAST/CT000006.dcm\n",
      "/Users/boriskefer/Documents/coding/YDATA/2021_2022_main/viz_ai/ydata-viz-ai/data01/CQ500CT101 CQ500CT101/Unknown Study/CT POST CONTRAST-2/CT000006.dcm\n",
      "/Users/boriskefer/Documents/coding/YDATA/2021_2022_main/viz_ai/ydata-viz-ai/data01/CQ500CT101 CQ500CT101/Unknown Study/CT PLAIN THIN/CT000065.dcm\n",
      "/Users/boriskefer/Documents/coding/YDATA/2021_2022_main/viz_ai/ydata-viz-ai/data01/CQ500CT101 CQ500CT101/Unknown Study/CT Plain/CT000006.dcm\n",
      "/Users/boriskefer/Documents/coding/YDATA/2021_2022_main/viz_ai/ydata-viz-ai/data01/CQ500CT105 CQ500CT105/Unknown Study/CT I To S/CT000065.dcm\n",
      "/Users/boriskefer/Documents/coding/YDATA/2021_2022_main/viz_ai/ydata-viz-ai/data01/CQ500CT105 CQ500CT105/Unknown Study/CT PRE CONTRAST 5MM STD/CT000006.dcm\n",
      "/Users/boriskefer/Documents/coding/YDATA/2021_2022_main/viz_ai/ydata-viz-ai/data01/CQ500CT105 CQ500CT105/Unknown Study/CT PRE CONTRAST THIN/CT000065.dcm\n",
      "/Users/boriskefer/Documents/coding/YDATA/2021_2022_main/viz_ai/ydata-viz-ai/data01/CQ500CT105 CQ500CT105/Unknown Study/CT PRE CONTRAST BONE/CT000006.dcm\n",
      "/Users/boriskefer/Documents/coding/YDATA/2021_2022_main/viz_ai/ydata-viz-ai/data01/CQ500CT1 CQ500CT1/Unknown Study/CT 2.55mm/CT000006.dcm\n",
      "/Users/boriskefer/Documents/coding/YDATA/2021_2022_main/viz_ai/ydata-viz-ai/data01/CQ500CT0 CQ500CT0/Unknown Study/CT 4cc sec 150cc D3D on/CT000065.dcm\n",
      "/Users/boriskefer/Documents/coding/YDATA/2021_2022_main/viz_ai/ydata-viz-ai/data01/CQ500CT0 CQ500CT0/Unknown Study/CT 4cc sec 150cc D3D on-2/CT000065.dcm\n",
      "/Users/boriskefer/Documents/coding/YDATA/2021_2022_main/viz_ai/ydata-viz-ai/data01/CQ500CT0 CQ500CT0/Unknown Study/CT 4cc sec 150cc D3D on-3/CT000065.dcm\n",
      "/Users/boriskefer/Documents/coding/YDATA/2021_2022_main/viz_ai/ydata-viz-ai/data01/CQ500CT0 CQ500CT0/Unknown Study/CT PLAIN THIN/CT000065.dcm\n",
      "/Users/boriskefer/Documents/coding/YDATA/2021_2022_main/viz_ai/ydata-viz-ai/data01/CQ500CT0 CQ500CT0/Unknown Study/CT Plain/CT000006.dcm\n",
      "/Users/boriskefer/Documents/coding/YDATA/2021_2022_main/viz_ai/ydata-viz-ai/data01/CQ500CT102 CQ500CT102/Unknown Study/CT PLAIN THIN/CT000065.dcm\n",
      "/Users/boriskefer/Documents/coding/YDATA/2021_2022_main/viz_ai/ydata-viz-ai/data01/CQ500CT102 CQ500CT102/Unknown Study/CT Plain/CT000006.dcm\n",
      "/Users/boriskefer/Documents/coding/YDATA/2021_2022_main/viz_ai/ydata-viz-ai/data01/CQ500CT106 CQ500CT106/Unknown Study/CT Thin Bone/CT000000.dcm\n",
      "/Users/boriskefer/Documents/coding/YDATA/2021_2022_main/viz_ai/ydata-viz-ai/data01/CQ500CT106 CQ500CT106/Unknown Study/CT 55mm Plain/CT000006.dcm\n",
      "/Users/boriskefer/Documents/coding/YDATA/2021_2022_main/viz_ai/ydata-viz-ai/data01/CQ500CT106 CQ500CT106/Unknown Study/CT Thin Plain/CT000065.dcm\n",
      "/Users/boriskefer/Documents/coding/YDATA/2021_2022_main/viz_ai/ydata-viz-ai/data01/CQ500CT106 CQ500CT106/Unknown Study/CT Thin Stnd/CT000065.dcm\n",
      "/Users/boriskefer/Documents/coding/YDATA/2021_2022_main/viz_ai/ydata-viz-ai/data01/CQ500CT10 CQ500CT10/Unknown Study/CT PLAIN THIN/CT000065.dcm\n",
      "/Users/boriskefer/Documents/coding/YDATA/2021_2022_main/viz_ai/ydata-viz-ai/data01/CQ500CT104 CQ500CT104/Unknown Study/CT BONE/CT000065.dcm\n",
      "/Users/boriskefer/Documents/coding/YDATA/2021_2022_main/viz_ai/ydata-viz-ai/data01/CQ500CT104 CQ500CT104/Unknown Study/CT PLAIN THIN/CT000065.dcm\n",
      "/Users/boriskefer/Documents/coding/YDATA/2021_2022_main/viz_ai/ydata-viz-ai/data01/CQ500CT104 CQ500CT104/Unknown Study/CT Plain/CT000006.dcm\n",
      "/Users/boriskefer/Documents/coding/YDATA/2021_2022_main/viz_ai/ydata-viz-ai/data01/CQ500CT100 CQ500CT100/Unknown Study/CT Plain 3mm/CT000048.dcm\n",
      "/Users/boriskefer/Documents/coding/YDATA/2021_2022_main/viz_ai/ydata-viz-ai/data01/CQ500CT100 CQ500CT100/Unknown Study/CT Plain THIN/CT000267.dcm\n",
      "/Users/boriskefer/Documents/coding/YDATA/2021_2022_main/viz_ai/ydata-viz-ai/data01/CQ500CT103 CQ500CT103/Unknown Study/CT 55mm Plain/CT000006.dcm\n",
      "/Users/boriskefer/Documents/coding/YDATA/2021_2022_main/viz_ai/ydata-viz-ai/data01/CQ500CT103 CQ500CT103/Unknown Study/CT Thin Plain/CT000065.dcm\n",
      "glob: /Users/boriskefer/Documents/coding/YDATA/2021_2022_main/viz_ai/ydata-viz-ai/data01/CQ500CT101 CQ500CT101/Unknown Study/CT POST CONTRAST-2\n",
      "file count: 21\n",
      "skipped, no SliceLocation: 0\n",
      "glob: /Users/boriskefer/Documents/coding/YDATA/2021_2022_main/viz_ai/ydata-viz-ai/data01/CQ500CT101 CQ500CT101/Unknown Study/CT PLAIN THIN\n"
     ]
    },
    {
     "name": "stderr",
     "output_type": "stream",
     "text": [
      "/Users/boriskefer/opt/anaconda3/envs/data_science/lib/python3.8/site-packages/pandas/core/series.py:1056: SettingWithCopyWarning: \n",
      "A value is trying to be set on a copy of a slice from a DataFrame\n",
      "\n",
      "See the caveats in the documentation: https://pandas.pydata.org/pandas-docs/stable/user_guide/indexing.html#returning-a-view-versus-a-copy\n",
      "  cacher_needs_updating = self._check_is_chained_assignment_possible()\n"
     ]
    },
    {
     "name": "stdout",
     "output_type": "stream",
     "text": [
      "file count: 224\n",
      "skipped, no SliceLocation: 0\n",
      "glob: /Users/boriskefer/Documents/coding/YDATA/2021_2022_main/viz_ai/ydata-viz-ai/data01/CQ500CT105 CQ500CT105/Unknown Study/CT I To S\n",
      "file count: 232\n",
      "skipped, no SliceLocation: 0\n",
      "glob: /Users/boriskefer/Documents/coding/YDATA/2021_2022_main/viz_ai/ydata-viz-ai/data01/CQ500CT105 CQ500CT105/Unknown Study/CT PRE CONTRAST THIN\n",
      "file count: 224\n",
      "skipped, no SliceLocation: 0\n",
      "glob: /Users/boriskefer/Documents/coding/YDATA/2021_2022_main/viz_ai/ydata-viz-ai/data01/CQ500CT0 CQ500CT0/Unknown Study/CT 4cc sec 150cc D3D on\n",
      "file count: 239\n",
      "skipped, no SliceLocation: 0\n",
      "glob: /Users/boriskefer/Documents/coding/YDATA/2021_2022_main/viz_ai/ydata-viz-ai/data01/CQ500CT0 CQ500CT0/Unknown Study/CT 4cc sec 150cc D3D on-2\n",
      "file count: 239\n",
      "skipped, no SliceLocation: 0\n",
      "glob: /Users/boriskefer/Documents/coding/YDATA/2021_2022_main/viz_ai/ydata-viz-ai/data01/CQ500CT0 CQ500CT0/Unknown Study/CT 4cc sec 150cc D3D on-3\n",
      "file count: 239\n",
      "skipped, no SliceLocation: 0\n",
      "glob: /Users/boriskefer/Documents/coding/YDATA/2021_2022_main/viz_ai/ydata-viz-ai/data01/CQ500CT0 CQ500CT0/Unknown Study/CT PLAIN THIN\n",
      "file count: 240\n",
      "skipped, no SliceLocation: 0\n",
      "glob: /Users/boriskefer/Documents/coding/YDATA/2021_2022_main/viz_ai/ydata-viz-ai/data01/CQ500CT102 CQ500CT102/Unknown Study/CT PLAIN THIN\n",
      "file count: 240\n",
      "skipped, no SliceLocation: 0\n",
      "glob: /Users/boriskefer/Documents/coding/YDATA/2021_2022_main/viz_ai/ydata-viz-ai/data01/CQ500CT106 CQ500CT106/Unknown Study/CT Thin Bone\n",
      "file count: 1\n",
      "skipped, no SliceLocation: 0\n",
      "glob: /Users/boriskefer/Documents/coding/YDATA/2021_2022_main/viz_ai/ydata-viz-ai/data01/CQ500CT106 CQ500CT106/Unknown Study/CT Thin Plain\n",
      "file count: 256\n",
      "skipped, no SliceLocation: 0\n",
      "glob: /Users/boriskefer/Documents/coding/YDATA/2021_2022_main/viz_ai/ydata-viz-ai/data01/CQ500CT106 CQ500CT106/Unknown Study/CT Thin Stnd\n",
      "file count: 66\n",
      "skipped, no SliceLocation: 0\n",
      "glob: /Users/boriskefer/Documents/coding/YDATA/2021_2022_main/viz_ai/ydata-viz-ai/data01/CQ500CT10 CQ500CT10/Unknown Study/CT PLAIN THIN\n",
      "file count: 224\n",
      "skipped, no SliceLocation: 0\n",
      "glob: /Users/boriskefer/Documents/coding/YDATA/2021_2022_main/viz_ai/ydata-viz-ai/data01/CQ500CT104 CQ500CT104/Unknown Study/CT BONE\n",
      "file count: 112\n",
      "skipped, no SliceLocation: 0\n",
      "glob: /Users/boriskefer/Documents/coding/YDATA/2021_2022_main/viz_ai/ydata-viz-ai/data01/CQ500CT104 CQ500CT104/Unknown Study/CT PLAIN THIN\n",
      "file count: 224\n",
      "skipped, no SliceLocation: 0\n",
      "glob: /Users/boriskefer/Documents/coding/YDATA/2021_2022_main/viz_ai/ydata-viz-ai/data01/CQ500CT100 CQ500CT100/Unknown Study/CT Plain THIN\n",
      "file count: 337\n",
      "skipped, no SliceLocation: 0\n",
      "glob: /Users/boriskefer/Documents/coding/YDATA/2021_2022_main/viz_ai/ydata-viz-ai/data01/CQ500CT103 CQ500CT103/Unknown Study/CT Thin Plain\n",
      "file count: 256\n",
      "skipped, no SliceLocation: 0\n",
      "CPU times: user 43.1 s, sys: 4 s, total: 47.1 s\n",
      "Wall time: 49.9 s\n"
     ]
    }
   ],
   "source": [
    "%%time\n",
    "dicom_utils.unzip_data(data_path)\n",
    "data_fields = dicom_utils.extract_scans_info(data_path)\n",
    "df = dicom_utils.filter_data_fields(data_fields)\n",
    "dicom_utils.save_3d_images(df, data_path)"
   ]
  },
  {
   "cell_type": "code",
   "execution_count": 7,
   "metadata": {},
   "outputs": [
    {
     "name": "stdout",
     "output_type": "stream",
     "text": [
      "/Users/boriskefer/Documents/coding/YDATA/2021_2022_main/viz_ai/ydata-viz-ai/data01_00/CQ500-CT-104_22.npz\n",
      "/Users/boriskefer/Documents/coding/YDATA/2021_2022_main/viz_ai/ydata-viz-ai/data01_00/CQ500-CT-0_12.npz\n",
      "/Users/boriskefer/Documents/coding/YDATA/2021_2022_main/viz_ai/ydata-viz-ai/data01_00/CQ500-CT-0_10.npz\n",
      "/Users/boriskefer/Documents/coding/YDATA/2021_2022_main/viz_ai/ydata-viz-ai/data01_00/CQ500-CT-106_19.npz\n",
      "/Users/boriskefer/Documents/coding/YDATA/2021_2022_main/viz_ai/ydata-viz-ai/data01_00/CQ500-CT-106_18.npz\n",
      "/Users/boriskefer/Documents/coding/YDATA/2021_2022_main/viz_ai/ydata-viz-ai/data01_00/CQ500-CT-104_21.npz\n",
      "/Users/boriskefer/Documents/coding/YDATA/2021_2022_main/viz_ai/ydata-viz-ai/data01_00/CQ500-CT-0_11.npz\n",
      "/Users/boriskefer/Documents/coding/YDATA/2021_2022_main/viz_ai/ydata-viz-ai/data01_00/CQ500-CT-101_2.npz\n",
      "/Users/boriskefer/Documents/coding/YDATA/2021_2022_main/viz_ai/ydata-viz-ai/data01_00/CQ500-CT-105_6.npz\n",
      "/Users/boriskefer/Documents/coding/YDATA/2021_2022_main/viz_ai/ydata-viz-ai/data01_00/CQ500-CT-100_25.npz\n",
      "/Users/boriskefer/Documents/coding/YDATA/2021_2022_main/viz_ai/ydata-viz-ai/data01_00/CQ500-CT-101_1.npz\n",
      "/Users/boriskefer/Documents/coding/YDATA/2021_2022_main/viz_ai/ydata-viz-ai/data01_00/CQ500-CT-105_4.npz\n",
      "/Users/boriskefer/Documents/coding/YDATA/2021_2022_main/viz_ai/ydata-viz-ai/data01_00/CQ500-CT-102_14.npz\n",
      "/Users/boriskefer/Documents/coding/YDATA/2021_2022_main/viz_ai/ydata-viz-ai/data01_00/CQ500-CT-10_20.npz\n",
      "/Users/boriskefer/Documents/coding/YDATA/2021_2022_main/viz_ai/ydata-viz-ai/data01_00/CQ500-CT-0_9.npz\n",
      "/Users/boriskefer/Documents/coding/YDATA/2021_2022_main/viz_ai/ydata-viz-ai/data01_00/CQ500-CT-106_16.npz\n",
      "/Users/boriskefer/Documents/coding/YDATA/2021_2022_main/viz_ai/ydata-viz-ai/data01_00/CQ500-CT-103_27.npz\n"
     ]
    }
   ],
   "source": [
    "%%time\n",
    "dicom_utils.transform_to_hu_dir(data_path)"
   ]
  },
  {
   "cell_type": "code",
   "execution_count": 5,
   "metadata": {},
   "outputs": [
    {
     "name": "stdout",
     "output_type": "stream",
     "text": [
      "clean_noise_dir /Users/boriskefer/Documents/coding/YDATA/2021_2022_main/viz_ai/ydata-viz-ai/data01_00/test00.npz\n",
      "clean_noise_dir /Users/boriskefer/Documents/coding/YDATA/2021_2022_main/viz_ai/ydata-viz-ai/data01_00/CQ500-CT-104_22.npz\n",
      "clean_noise_dir /Users/boriskefer/Documents/coding/YDATA/2021_2022_main/viz_ai/ydata-viz-ai/data01_00/CQ500-CT-0_12.npz\n",
      "clean_noise_dir /Users/boriskefer/Documents/coding/YDATA/2021_2022_main/viz_ai/ydata-viz-ai/data01_00/CQ500-CT-0_10.npz\n",
      "clean_noise_dir /Users/boriskefer/Documents/coding/YDATA/2021_2022_main/viz_ai/ydata-viz-ai/data01_00/CQ500-CT-106_18.npz\n",
      "clean_noise_dir /Users/boriskefer/Documents/coding/YDATA/2021_2022_main/viz_ai/ydata-viz-ai/data01_00/CQ500-CT-104_21.npz\n",
      "clean_noise_dir /Users/boriskefer/Documents/coding/YDATA/2021_2022_main/viz_ai/ydata-viz-ai/data01_00/CQ500-CT-0_11.npz\n",
      "clean_noise_dir /Users/boriskefer/Documents/coding/YDATA/2021_2022_main/viz_ai/ydata-viz-ai/data01_00/CQ500-CT-101_2.npz\n",
      "clean_noise_dir /Users/boriskefer/Documents/coding/YDATA/2021_2022_main/viz_ai/ydata-viz-ai/data01_00/CQ500-CT-105_6.npz\n",
      "clean_noise_dir /Users/boriskefer/Documents/coding/YDATA/2021_2022_main/viz_ai/ydata-viz-ai/data01_00/CQ500-CT-100_25.npz\n",
      "clean_noise_dir /Users/boriskefer/Documents/coding/YDATA/2021_2022_main/viz_ai/ydata-viz-ai/data01_00/CQ500-CT-105_4.npz\n",
      "clean_noise_dir /Users/boriskefer/Documents/coding/YDATA/2021_2022_main/viz_ai/ydata-viz-ai/data01_00/CQ500-CT-102_14.npz\n",
      "clean_noise_dir /Users/boriskefer/Documents/coding/YDATA/2021_2022_main/viz_ai/ydata-viz-ai/data01_00/CQ500-CT-10_20.npz\n",
      "clean_noise_dir /Users/boriskefer/Documents/coding/YDATA/2021_2022_main/viz_ai/ydata-viz-ai/data01_00/CQ500-CT-0_9.npz\n",
      "clean_noise_dir /Users/boriskefer/Documents/coding/YDATA/2021_2022_main/viz_ai/ydata-viz-ai/data01_00/CQ500-CT-103_27.npz\n",
      "CPU times: user 20.5 s, sys: 6.75 s, total: 27.2 s\n",
      "Wall time: 28.8 s\n"
     ]
    }
   ],
   "source": [
    "%%time\n",
    "dicom_utils.clean_noise_dir(data_path)"
   ]
  },
  {
   "cell_type": "code",
   "execution_count": 5,
   "metadata": {},
   "outputs": [
    {
     "name": "stdout",
     "output_type": "stream",
     "text": [
      "resample /Users/boriskefer/Documents/coding/YDATA/2021_2022_main/viz_ai/ydata-viz-ai/data01_00/test00.npz\n",
      "Bad file name: test00.npz\n",
      "resample /Users/boriskefer/Documents/coding/YDATA/2021_2022_main/viz_ai/ydata-viz-ai/data01_00/CQ500-CT-104_22.npz\n",
      "resample /Users/boriskefer/Documents/coding/YDATA/2021_2022_main/viz_ai/ydata-viz-ai/data01_00/CQ500-CT-0_12.npz\n",
      "resample /Users/boriskefer/Documents/coding/YDATA/2021_2022_main/viz_ai/ydata-viz-ai/data01_00/CQ500-CT-0_10.npz\n",
      "resample /Users/boriskefer/Documents/coding/YDATA/2021_2022_main/viz_ai/ydata-viz-ai/data01_00/CQ500-CT-106_18.npz\n",
      "resample /Users/boriskefer/Documents/coding/YDATA/2021_2022_main/viz_ai/ydata-viz-ai/data01_00/CQ500-CT-104_21.npz\n",
      "resample /Users/boriskefer/Documents/coding/YDATA/2021_2022_main/viz_ai/ydata-viz-ai/data01_00/CQ500-CT-0_11.npz\n",
      "resample /Users/boriskefer/Documents/coding/YDATA/2021_2022_main/viz_ai/ydata-viz-ai/data01_00/CQ500-CT-101_2.npz\n",
      "resample /Users/boriskefer/Documents/coding/YDATA/2021_2022_main/viz_ai/ydata-viz-ai/data01_00/CQ500-CT-105_6.npz\n",
      "resample /Users/boriskefer/Documents/coding/YDATA/2021_2022_main/viz_ai/ydata-viz-ai/data01_00/CQ500-CT-100_25.npz\n",
      "resample /Users/boriskefer/Documents/coding/YDATA/2021_2022_main/viz_ai/ydata-viz-ai/data01_00/CQ500-CT-105_4.npz\n",
      "resample /Users/boriskefer/Documents/coding/YDATA/2021_2022_main/viz_ai/ydata-viz-ai/data01_00/CQ500-CT-102_14.npz\n",
      "resample /Users/boriskefer/Documents/coding/YDATA/2021_2022_main/viz_ai/ydata-viz-ai/data01_00/CQ500-CT-10_20.npz\n",
      "resample /Users/boriskefer/Documents/coding/YDATA/2021_2022_main/viz_ai/ydata-viz-ai/data01_00/CQ500-CT-0_9.npz\n",
      "resample /Users/boriskefer/Documents/coding/YDATA/2021_2022_main/viz_ai/ydata-viz-ai/data01_00/CQ500-CT-103_27.npz\n",
      "CPU times: user 1min 20s, sys: 5.11 s, total: 1min 25s\n",
      "Wall time: 1min 25s\n"
     ]
    }
   ],
   "source": [
    "%%time\n",
    "dicom_utils.resample_dir(data_path)"
   ]
  },
  {
   "cell_type": "code",
   "execution_count": null,
   "metadata": {},
   "outputs": [],
   "source": []
  },
  {
   "cell_type": "code",
   "execution_count": null,
   "metadata": {},
   "outputs": [],
   "source": []
  },
  {
   "cell_type": "code",
   "execution_count": null,
   "metadata": {},
   "outputs": [],
   "source": []
  },
  {
   "cell_type": "code",
   "execution_count": 8,
   "metadata": {},
   "outputs": [],
   "source": [
    "df = pd.read_csv(os.path.join(data_path, \"data_fields.csv\"), index_col=[0])"
   ]
  },
  {
   "cell_type": "code",
   "execution_count": 23,
   "metadata": {},
   "outputs": [],
   "source": [
    "img_to_remove = df[(df['SliceThickness'] > 2) | (df['SliceThickness'] * df['num_slices'] < 100)].copy()"
   ]
  },
  {
   "cell_type": "code",
   "execution_count": 24,
   "metadata": {},
   "outputs": [],
   "source": [
    "img_to_remove.index.name = \"idx\""
   ]
  },
  {
   "cell_type": "code",
   "execution_count": 27,
   "metadata": {},
   "outputs": [
    {
     "data": {
      "text/plain": [
       "idx\n",
       "1      CQ500-CT-101_1.npz\n",
       "16    CQ500-CT-106_16.npz\n",
       "19    CQ500-CT-106_19.npz\n",
       "Name: file_name, dtype: object"
      ]
     },
     "execution_count": 27,
     "metadata": {},
     "output_type": "execute_result"
    }
   ],
   "source": [
    "img_to_remove['file_name'] = img_to_remove['PatientName'] + \"_\" + img_to_remove.index.map(str) + \".npz\"\n",
    "img_to_remove['file_name']"
   ]
  },
  {
   "cell_type": "code",
   "execution_count": 30,
   "metadata": {},
   "outputs": [
    {
     "name": "stdout",
     "output_type": "stream",
     "text": [
      "/Users/boriskefer/Documents/coding/YDATA/2021_2022_main/viz_ai/ydata-viz-ai/data01_00/CQ500-CT-101_1.npz\n",
      "/Users/boriskefer/Documents/coding/YDATA/2021_2022_main/viz_ai/ydata-viz-ai/data01_00/CQ500-CT-106_16.npz\n",
      "/Users/boriskefer/Documents/coding/YDATA/2021_2022_main/viz_ai/ydata-viz-ai/data01_00/CQ500-CT-106_19.npz\n"
     ]
    }
   ],
   "source": [
    "for f in img_to_remove['file_name']:\n",
    "    print(os.path.join(data_path, f))\n",
    "    os.remove(os.path.join(data_path, f))"
   ]
  }
 ],
 "metadata": {
  "colab": {
   "collapsed_sections": [],
   "name": "Shared_Viz_ai_DCIOM.ipynb",
   "provenance": []
  },
  "kernelspec": {
   "display_name": "Python 3 (ipykernel)",
   "language": "python",
   "name": "python3"
  },
  "language_info": {
   "codemirror_mode": {
    "name": "ipython",
    "version": 3
   },
   "file_extension": ".py",
   "mimetype": "text/x-python",
   "name": "python",
   "nbconvert_exporter": "python",
   "pygments_lexer": "ipython3",
   "version": "3.8.12"
  }
 },
 "nbformat": 4,
 "nbformat_minor": 1
}
